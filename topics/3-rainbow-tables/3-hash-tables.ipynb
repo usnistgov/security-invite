{
 "cells": [
  {
   "cell_type": "markdown",
   "metadata": {},
   "source": [
    "## Rainbow Tables\n",
    "### What is a Rainbow Table?\n",
    "A rainbow table is a table of precomputed hash values and their original text, such as passwords. They take advantage of the fact that hashing algorithms consistently produce the same output for every input.\n",
    "### What is a Rainbow Table Attack?\n",
    "A rainbow table attack can allow for quick discovery of passwords if a password's hash value exists in the rainbow table. If an attacker can get access to hashed passwords, and the passwords have entries in the rainbow table, then the original plaintext password can be quickly determined.\n",
    "### Mitigating a Rainbow Table Attack\n",
    "1. **Salting**: Introduced in the previous lesson, we can now go into a deeper explanation. Before hashing a password, we can add a random value that (a salt) that will change the resulting hash. Even if there is a rainbow table entry for a given password, the salt will make it so that the resulting hash does not match. Note that we must save the salt value so we can recompute the hash later when needed.\n",
    "2. **Password Complexity**: Using longer passwords or passwords with more character complexity increases the cost of rainbow table generation. Increase the creation cost enough, and it is no longer a practical tool for attackers."
   ]
  },
  {
   "cell_type": "markdown",
   "metadata": {},
   "source": [
    "### Unique Passwords are Important\n",
    "The reason unique passwords are important is because known passwords are compromised the fastest since they are checked first during brute-force attacks."
   ]
  },
  {
   "cell_type": "markdown",
   "metadata": {},
   "source": [
    "### The most used passwords list are regularly published by multiple cyber-security organizations:\n",
    "\n",
    "1. [OWASP 500-worst on GitHub](https://github.com/OWASP/passfault/blob/master/wordlists/wordlists/500-worst-passwords.txt)\n",
    "2. [QWASP 10K-worst on GitHub](https://github.com/OWASP/passfault/blob/master/wordlists/wordlists/10k-worst-passwords.txt)\n",
    "3. [Parts of passwords in different Language](https://github.com/OWASP/passfault/tree/master/wordlists/wordlists)\n",
    "4. [Wikipedia list of most popular passwords](https://en.wikipedia.org/wiki/Wikipedia:10,000_most_common_passwords)\n",
    "5. [CyberNews yearly analyzes passwords and distributions by name, curse words, teams, etc](https://cybernews.com/best-password-managers/most-common-passwords/)\n"
   ]
  }
 ],
 "metadata": {
  "kernelspec": {
   "display_name": "Python 3",
   "language": "python",
   "name": "python3"
  },
  "language_info": {
   "codemirror_mode": {
    "name": "ipython",
    "version": 3
   },
   "file_extension": ".py",
   "mimetype": "text/x-python",
   "name": "python",
   "nbconvert_exporter": "python",
   "pygments_lexer": "ipython3",
   "version": "3.11.9"
  },
  "orig_nbformat": 4
 },
 "nbformat": 4,
 "nbformat_minor": 2
}
