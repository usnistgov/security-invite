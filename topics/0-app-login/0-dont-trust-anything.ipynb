{
 "cells": [
  {
   "cell_type": "markdown",
   "metadata": {},
   "source": [
    "## Dangers of Application User Input:\n",
    "\n",
    "### User Input Potential Dangers \n",
    "- #### User input can contain unexpected characters and symbols\n",
    "- #### Users can provide input shorter or longer than the length you expected\n",
    "- #### Users can deduce semantics or URL parameters POST requests and replay or manipulate all of them\n",
    "- #### Users can and will intentionally attack applications\n",
    "\n",
    "### In safe implementations: \n",
    "- #### **User Input ALWAYS** has to be constrained in length, unless specified otherwise \n",
    "- #### **User Input ALWAYS** has to be sanitized with RegEx or code logic\n",
    "- #### Any sanitation faults must be logged \n",
    "- #### Any file reading must be wrapped in exception handling blocks at all tiers of the application depth from the Front-End to the Back-End. \n",
    "    \n",
    "### On the front end, RegEx and Input Limiting/Masking are the most common sanitation methods of user input. Use session management and URL parameter protection methods to prevent web-requests replay and URL parameters manipulation. On the back-end, the use of Parametrized and Type-Locked Database queries and stored procedures help realize the defense-in-depth concept.  "
   ]
  },
  {
   "cell_type": "code",
   "execution_count": 1,
   "metadata": {},
   "outputs": [
    {
     "name": "stdout",
     "output_type": "stream",
     "text": [
      "\n",
      "\t+++ User Name \"1234567890\" is compliant +++\n",
      "\n",
      "\t!!! User Name \"Owl-Grey_like Tea\" is NOT ALLOWED !!!\n",
      "\n",
      "\t+++ User Name \"x\" is compliant +++\n"
     ]
    }
   ],
   "source": [
    "import re   # re is part of 'Lib/re' in standard distribution that is installed with Python. \n",
    "            # There is also 'regex' library that has very similar API and can be installed separately\n",
    "import time\n",
    "\n",
    "email_or_user = '^(?:\\w+|\\w+([+\\.-_]?\\w+)*@\\w+([\\.-]?\\w+)*(\\.[a-zA-z]{2,4})+)$'\n",
    "\n",
    "IS_CORRECT_USER_NAME = re.compile(email_or_user)\n",
    "\n",
    "\n",
    "while True:\n",
    "    # !!! NEVER Remove Sleep - it breaks Input  - the famous quirk of Python Server in a Python Notebook\n",
    "    time.sleep(0.5) # In executing the snippet from command-line the sleep is not needed    \n",
    "    maybe_user = input('Try To Enter User Name : ')\n",
    "    if re.fullmatch(IS_CORRECT_USER_NAME, maybe_user):\n",
    "        print(f'\\n\\t+++ User Name \"{maybe_user}\" is compliant +++')\n",
    "    else:\n",
    "        print(f'\\n\\t!!! User Name \"{maybe_user}\" is NOT ALLOWED !!!')\n",
    "    if maybe_user.lower() in ['exit', 'quit', 'break', 'done', 'kill', 'x']:\n",
    "        break\n"
   ]
  },
  {
   "cell_type": "markdown",
   "metadata": {},
   "source": [
    "## Does it Mean That File Input Is Safe?\n",
    "\n",
    "### File Input Potential Dangers\n",
    "- #### Files can be made malformed or become corrupted\n",
    "- #### File size, line length, encoding, decoding, and/or any other properties assumed or expected by the code may be wrong\n",
    "- #### File inputs can be intentionally changed to attack applications and point to broken or intentionally modified files\n",
    "- #### The data read from files can be modified to present danger at the place of use in the code\n",
    "\n",
    "### In safe implementations, **file input ALWAYS** has to be verified to comply with the assumptions made in the code and with the developer's expectations.\n",
    "\n",
    "### Example of a SIMPLE INTERACTIVE Python implementation that reads a YAML file into a dict below:"
   ]
  },
  {
   "cell_type": "code",
   "execution_count": 25,
   "metadata": {},
   "outputs": [
    {
     "name": "stdout",
     "output_type": "stream",
     "text": [
      "General Exception:\n",
      "[Errno 2] No such file or directory: '../Tests/si/set/settings.yamlX'\n",
      "\n",
      "yaml.YAMLError:\n",
      "while scanning a simple key\n",
      "  in \"../Tests/si/set/settings-broken.yaml\", line 3, column 1\n",
      "could not find expected ':'\n",
      "  in \"../Tests/si/set/settings-broken.yaml\", line 4, column 2\n",
      "\n",
      "\n",
      "Info 1 = {'DB_NAME': '~/SI_DB.db', 'TABLE_NAME': 'USERS_TOPIC_1', 'MAX_FAILED': 5}\n",
      "\n",
      "Info 2 = {'database': './db/BACKUP_DB.db', 'attempts': 10}\n",
      "\n",
      "Info 3 = {'database': './db/BACKUP_DB.db', 'attempts': 10}\n"
     ]
    }
   ],
   "source": [
    "import yaml\n",
    "def read_settings(settings_file:str)->dict: \n",
    "    # Here we initialize the dict with the \n",
    "    # DEFAULT VALUES in case the YAML file could not be read!\n",
    "    settings_dict={'database': './db/BACKUP_DB.db', 'attempts': 10} \n",
    "    stream = None\n",
    "    try:\n",
    "        with open(settings_file, \"r\") as stream:\n",
    "            settings_dict = yaml.safe_load(stream)\n",
    "    except yaml.YAMLError as exc:\n",
    "        print(f'yaml.YAMLError:\\n{exc}\\n')\n",
    "    except Exception as general_ex:\n",
    "        print(f'General Exception:\\n{general_ex}\\n')\n",
    "    finally:\n",
    "        if stream:\n",
    "            stream.close()\n",
    "    return settings_dict\n",
    "\n",
    "\n",
    "info_1 = read_settings(\"../Tests/si/set/settings.yaml\") # Read a good file\n",
    "info_2 = read_settings(\"../Tests/si/set/settings.yamlX\") # read non-existing file\n",
    "info_3 = read_settings(\"../Tests/si/set/settings-broken.yaml\") # read structurally incorrect file\n",
    "\n",
    "print(f'\\nInfo 1 = {info_1}')\n",
    "print(f'\\nInfo 2 = {info_2}')\n",
    "print(f'\\nInfo 3 = {info_3}')\n"
   ]
  },
  {
   "cell_type": "markdown",
   "metadata": {},
   "source": [
    "#### The application should produce error messages like the following:\n",
    "\n",
    "```\n",
    "General Exception:\n",
    "[Errno 2] No such file or directory: '../Tests/si/set/settings.yamlX'\n",
    "```\n",
    "\n",
    "```\n",
    "yaml.YAMLError:\n",
    "while scanning a simple key\n",
    "  in \"../Tests/si/set/settings-broken.yaml\", line 3, column 1\n",
    "could not find expected ':'\n",
    "  in \"../Tests/si/set/settings-broken.yaml\", line 4, column 2\n",
    "```\n",
    "\n",
    "### Though you would want to prevent phone and web applications from spilling information about your back-end or middle-tier file system, database type, database structure, server configurations, and/or other \"helpful information\" that feels useful to a developer, but surely will expose knowledge about your system's internal structure.  While that information is not useful for the average user, it exposes necessary information to a potential attacker.\n",
    "\n",
    "### This information, including where the failure occurred, would be better preserved in a local log file. The user should be given a generic message stating that the operation could not be accomplished. Below is an implementation of the previous code, now with logging functionality."
   ]
  },
  {
   "cell_type": "code",
   "execution_count": 1,
   "metadata": {},
   "outputs": [
    {
     "name": "stdout",
     "output_type": "stream",
     "text": [
      "\n",
      "Info 1 = {'DB_NAME': '~/SI_DB.db', 'TABLE_NAME': 'USERS_TOPIC_1', 'MAX_FAILED': 5}\n",
      "\n",
      "Info 2 = {'database': './db/BACKUP_DB.db', 'attempts': 10}\n",
      "\n",
      "Info 3 = {'database': './db/BACKUP_DB.db', 'attempts': 10}\n"
     ]
    }
   ],
   "source": [
    "import yaml\n",
    "import logging\n",
    "import io\n",
    "from datetime import datetime\n",
    "\n",
    "def read_settings(settings_file:str)->dict: \n",
    "    # Here we initialize the dict with the \n",
    "    # DEFAULT VALUES in case the YAML file could not be read!\n",
    "    settings_dict={'database': './db/BACKUP_DB.db', 'attempts': 10} \n",
    "    stream = None\n",
    "    status = -100\n",
    "    try:\n",
    "        with open(settings_file, \"r\") as stream:\n",
    "            settings_dict = yaml.safe_load(stream)\n",
    "            status = 1\n",
    "    except yaml.YAMLError as exc:\n",
    "        log_message = (f'yaml.YAMLError:\\n{exc}\\n')\n",
    "        app_logger.error(log_message, exc_info=True)\n",
    "        status = -1\n",
    "    except Exception as general_ex:\n",
    "        log_message = (f'General Exception:\\n{general_ex}\\n')\n",
    "        app_logger.exception(log_message, exc_info=True)\n",
    "        status = -10\n",
    "    finally:\n",
    "        if stream:\n",
    "            stream.close()\n",
    "        if status<0:\n",
    "            app_logger.error(f'Failed attempt to read YAML file [{settings_file}] with status:{status}')\n",
    "        else:\n",
    "            app_logger.info(f'Successfully read YAML file [{settings_file}] with status:{status}')\n",
    "    return settings_dict\n",
    "\n",
    "def configure_logger():\n",
    "    LOG_FORMAT = (  f'\\n\\n!!!{\"=\"*80}\\n!!!=> %(asctime)s \\n'\n",
    "                    f'\\tLogged by: %(name)s\\t@Level: %(levelname)s:\\n'\n",
    "                    f'\\tIn function: [%(funcName)s]\\t@Line No: %(lineno)d\\n'\n",
    "                    f'\\t%(message)s\\n!!!{\"=\"*80}')\n",
    "    #\n",
    "    # Lambda solution with microseconds if needed from stack overflow https://stackoverflow.com/questions/50873446/python-logger-output-dates-in-is8601-format\n",
    "    # logging.Formatter.formatTime = (lambda self, record, datefmt=None: datetime.datetime.fromtimestamp(record.created, datetime.timezone.utc).astimezone().isoformat(sep=\"T\",timespec=\"milliseconds\"))\n",
    "    #\n",
    "    datetime_format_ISO = '%Y-%m-%dT%H:%M:%S%z' # # %f does not work, despite the Python specs - hence dropped microseconds\n",
    "    menacing_format =  '%Y-%m-%dT%H:%M:%S.%f %A the %'\n",
    "\n",
    "    logging.basicConfig(\n",
    "        filename = './status.log',\n",
    "        level=logging.DEBUG, \n",
    "        filemode='a',\n",
    "        format = LOG_FORMAT,\n",
    "        datefmt=datetime_format_ISO\n",
    "        ) # Handlers array can contain multiple streams\n",
    "    return logging.getLogger(__name__)\n",
    "\n",
    "app_logger = configure_logger()\n",
    "\n",
    "info_1 = read_settings(\"../Tests/si/set/settings.yaml\") # Read a good file\n",
    "info_2 = read_settings(\"../Tests/si/set/settings.yamlX\") # read non-existing file\n",
    "info_3 = read_settings(\"../Tests/si/set/settings-broken.yaml\") # read structurally incorrect file\n",
    "\n",
    "print(f'\\nInfo 1 = {info_1}')\n",
    "print(f'\\nInfo 2 = {info_2}')\n",
    "print(f'\\nInfo 3 = {info_3}')"
   ]
  }
 ],
 "metadata": {
  "kernelspec": {
   "display_name": "Python 3",
   "language": "python",
   "name": "python3"
  },
  "language_info": {
   "codemirror_mode": {
    "name": "ipython",
    "version": 3
   },
   "file_extension": ".py",
   "mimetype": "text/x-python",
   "name": "python",
   "nbconvert_exporter": "python",
   "pygments_lexer": "ipython3",
   "version": "3.8.9"
  },
  "orig_nbformat": 4
 },
 "nbformat": 4,
 "nbformat_minor": 2
}
