{
 "cells": [
  {
   "cell_type": "markdown",
   "metadata": {},
   "source": [
    "### Make sure that the libraries you use are implementing standard hash functions \n",
    "#### Hashing libraries may be implemented in varous programming languages and for various operating systems. The libraries must implement algorithms in consistent ways defined by national and international standard bodies. For example:\n",
    "\n",
    "- SHA-2 family of hash algorithms: SHA-224, SHA-256, SHA-384, SHA-512, SHA-512/224, and SHA-512/256 implementations must comply with the [NIST FIPS 180-4](https://csrc.nist.gov/publications/detail/fips/180/4/final) standard. \n",
    "- SHA-3 family: SHA3-224, SHA3-256, SHA3-384, and SHA3-512 implementations must comply with [NIST FIPS 202](https://csrc.nist.gov/pubs/fips/202/final) standard.\n",
    "- Implementations of [Argon2](https://en.wikipedia.org/wiki/Argon2) family of memory-hard hash functions must comply with [IETF's RFC 9106](https://datatracker.ietf.org/doc/html/rfc9106).  \n",
    "- MD5 implementations must comply with [IETF's RFC 1321](https://www.ietf.org/rfc/rfc1321.txt). \n",
    "\n",
    "### Make sure that the hash algorithms you use are current! \n",
    "- SHA-1 is considered [not strong enough](https://www.nist.gov/news-events/news/2022/12/nist-retires-sha-1-cryptographic-algorithm) and is [recommended for replacement](https://csrc.nist.gov/news/2022/nist-transitioning-away-from-sha-1-for-all-apps) by either SHA-2 or SHA-3 families of algorithms.\n",
    "- There are known computational optimizations for Argon2i and Argon2d hash functions, though Argon2id is recommended by [OWASP guidance](https://cheatsheetseries.owasp.org/cheatsheets/Password_Storage_Cheat_Sheet.html).\n",
    " \n"
   ]
  },
  {
   "cell_type": "markdown",
   "metadata": {},
   "source": [
    "A bcrypt hash value consists of the following parts:\n",
    "\n",
    "- \\$2\\$ (note that it is surrounded by \"$\" signs) is a usual bcrypt hash function prefix.\n",
    "- \\$2b\\$ in our case informs that the hash is generated according to the OpenBSD implementation of bcrypt.\n",
    "- besides 2b, other possible prefixes bcrypt can have are: 2a, 2x, and 2y.\n",
    "- 12 — this is the \"cost\" parameter, indicating that the password is hashed with 210 (i.e. 1024) iterations of the blowfish cipher. A higher cost parameter results in password hashes that are harder to crack by brute force.\n",
    "- yi32JXsMsobDwrNgtylgv. — This is the 128-bit salt value, encoded in base64 as 22 ASCII characters.\n",
    "\n",
    "The remaining characters correspond to the 184-bit blowfish hash value, encoded in base64 as 31 characters."
   ]
  },
  {
   "cell_type": "markdown",
   "metadata": {},
   "source": [
    "Below is an illustration of using bcrypt. Use of Bcrypt can increase credential hashing time, if so desired. This is useful for mitigating brute-force attacks.  \n",
    "If Bcrypt is not installed, you can add py-bcrypt to your default Python environment as follows:  \n",
    "\n",
    "```\n",
    "pip install py-bcrypt\n",
    "```\n",
    "or\n",
    "\n",
    "```\n",
    "python3 -m pip install py-bcrypt\n",
    "```"
   ]
  },
  {
   "cell_type": "code",
   "execution_count": 13,
   "metadata": {},
   "outputs": [
    {
     "name": "stdout",
     "output_type": "stream",
     "text": [
      "Bcrypt:\n",
      "\tPassword:\tpassword123\n",
      "\tPwd_Bytes:\tb'password123'\n",
      "\tPwd_Salt:\tb'$2b$12$yi32JXsMsobDwrNgtylgv.'\n",
      "\tPwd_Hash:\tb'$2b$12$yi32JXsMsobDwrNgtylgv.03APX9K7LbQ96.St8VHhKgz4xyX2kem'\n",
      "Bcrypt:\n",
      "\tPassword:\tpassword123🌺🌸\n",
      "\tPwd_Bytes:\tb'password123\\xf0\\x9f\\x8c\\xba\\xf0\\x9f\\x8c\\xb8'\n",
      "\tPwd_Salt:\tb'$2b$12$yi32JXsMsobDwrNgtylgv.'\n",
      "\tPwd_Hash:\tb'$2b$12$yi32JXsMsobDwrNgtylgv.qhfrgptutkThfszppajtS5HS1YunxXm'\n",
      "Bcrypt:\n",
      "\tPassword:\t1234567890\n",
      "\tPwd_Bytes:\tb'1234567890'\n",
      "\tPwd_Salt:\tb'$2b$12$yi32JXsMsobDwrNgtylgv.'\n",
      "\tPwd_Hash:\tb'$2b$12$yi32JXsMsobDwrNgtylgv.fuKDH5LhaYQ8s2g3twD4OI29iHHSgzG'\n"
     ]
    },
    {
     "data": {
      "text/plain": [
       "b'$2b$12$yi32JXsMsobDwrNgtylgv.fuKDH5LhaYQ8s2g3twD4OI29iHHSgzG'"
      ]
     },
     "execution_count": 13,
     "metadata": {},
     "output_type": "execute_result"
    }
   ],
   "source": [
    "# Demonstrating what bcrypt hash functions turn passwords into\n",
    "import bcrypt   # !!! The Older Legacy Tool.\n",
    "from datetime import datetime\n",
    "from hashlib import pbkdf2_hmac\n",
    "\n",
    "def hash_bcrypt(password: str, salt: bytes) -> str:\n",
    "    pwd_bytes = password.encode('utf-8')\n",
    "    pwd_hash = bcrypt.hashpw(pwd_bytes, salt)\n",
    "    print(f'Bcrypt:\\n\\tPassword:\\t{password}\\n\\tPwd_Bytes:\\t{pwd_bytes}\\n\\tPwd_Salt:\\t{salt}\\n\\tPwd_Hash:\\t{pwd_hash}')\n",
    "    return pwd_hash\n",
    "\n",
    "# salt = bcrypt.gensalt()\n",
    "salt = b'$2b$12$yi32JXsMsobDwrNgtylgv.'\n",
    "p1 = 'password123'\n",
    "p2 = 'password123🌺🌸'\n",
    "p3 = '1234567890'\n",
    "\n",
    "hash_bcrypt(p1,salt)\n",
    "hash_bcrypt(p2,salt)\n",
    "hash_bcrypt(p3,salt)"
   ]
  },
  {
   "cell_type": "markdown",
   "metadata": {},
   "source": [
    "#### The SHA Family of algorithms is implemented in the module ```hashlib```. The module ```hashlib``` is usually included in the default Python distributions on most platforms. For password hashing, SHA2 or SHA3 hash algorithms are plugged into the PBKDF2 HMAC hash chaining function, which is intentionally slowing down computation of the password hash by performing multiple iterations. For PBKDF2 hashing of the passwords NIST recommends the following:\n",
    "\n",
    "- Generate and store a salt that is at least 128 bytes long.\n",
    "- Use at least 100,000 hash chaining iterations.\n",
    "- Allow maximum password length to be at least 64 characters.\n",
    "- Do not constrain characters and allow UNICODE characters in the passwords.\n"
   ]
  },
  {
   "cell_type": "code",
   "execution_count": 29,
   "metadata": {},
   "outputs": [
    {
     "name": "stdout",
     "output_type": "stream",
     "text": [
      "\n",
      "\n",
      "pbkdf2_hmac Algorithm with parameters:\n",
      "\tHash-Name: sha512\n",
      "\tRandom Salt[B]: b'\\xe6\\xf0R\\x8c\\xc5\\xb5\\xa5\\xa7\\xbb\\xff\\xffu;V\\x130\\xfc\\xc5\\x10\\xa7\\x9c\\x90\\xb6W\\xc8K\\xa1\\xd4{ ,\\x16\\xbe*1j\\xe5\\xf51/b\\x19\\x81\\xbdma\\xd4\\x19\\x1bq\\x84e\\xa2z\\n\\xe5\\x07\\x1d\\tf\\xbc\\x0f\\xcb\\x82cBO\\x947\\t\\x00O\\t\\x08\\x1b\\xe0\\xa8\\xc4\\x0e\\xc6\\xb2\\xc0\\xcc,\\x17\\xec\\xf0\\x1d\\xce\\x8c=\\xff\\x8b\\xdbE\\x1c\\xbbr\\x05\\xd6\\xaa\\xa0\\x13s\\xfe:c\\x1e\\xd0%\\xb9\\x81xi:\\xbf\\xd7\\xe5\\xb4\\x14\\xdfU\\xc4\\xd5{;\\x10Z'\n",
      "\tRandom Salt[H]: e6f0528cc5b5a5a7bbffff753b561330fcc510a79c90b657c84ba1d47b202c16be2a316ae5f5312f621981bd6d61d4191b718465a27a0ae5071d0966bc0fcb8263424f943709004f09081be0a8c40ec6b2c0cc2c17ecf01dce8c3dff8bdb451cbb7205d6aaa01373fe3a631ed025b98178693abfd7e5b414df55c4d57b3b105a\n",
      "\tIterations: 100000\n",
      "\tDesired Length: 512\n",
      "\tPassword: password123 \n",
      "\tResult Hash[B]: b'\\xcb\\xb8^\\x16h\\xdd\\x961\\xd8%55\\x86\\xbe\\x83\\xdf\\xc2\\xd2\\x8a\\xed\\xac\\x12\\xb8SU\\x8f\\xcf\\x1c\\x19\\xac\\xa9q\\x1d!1+e\\xef\\xf9\\x12\\xc1X\\xa5\\xa19\\xad;\\x83>$z\"\\x0fy\\x1d\\x0b\\xb17[\\xe1n\\xb9\\xd2R\\x90l\\xef\\x16\\xe5\\x8f\\x82\\x7f\\x06*\\xbc\\xe2#qA.[\\x9a\\xaa\\x16\\x8ey\\xe7\\x9c\\x16\\xa6);\\xa3g\\x0c\\xa8\\xa8-\\xc0Z\\xf6-j\\x8b=\\xaf\\xbaa\\xb9\\xd3q\\x88,\\xfc\\xa2,\\'A:\\x8eQ\\x8cd\\xd75\\xea\\xdc\\xa7\\x18\\xc4\\xc4\\xa8yk\"\\x07\\xd2\\xc0\\xeau\\x9b\\x9b\\xed\\xa4\\xdc?\\xe8\\xe3\\x1d\\x9cQ\\t\\x83\\xaav8km\\x99\\xde\\x87v\\xef\\x1c\\xaf\\x97\\xd5d9\\x1f\\xcd\\x00\\x82\\xf3\\x1fu\\xc8\\xed\\xe2\\x94T\\xfc8c\\xb4\\x0f\\xb8PH}V\\xae;\\x157_\\xe8\\xb5\\x8b\\xc9\\xc5\\x91\\xf9]\\xf2d.)\\x8f\"\\x98ET\\x0b`\\x00\\xa0\\xa0\\xbds\\xa8\\xcev\\xd1\\x98\\x87V\\'\\xa9\\xc4\\xd3\\xbd\\xc8\\xbdr\\xa8\\x17U7\\xb5\\xfc\\x15@\\xdf\\xe2\\xdf7\\n\\xb4\\x80QZ\\x7f\\xa3c\\x94\\xe3\\x87\\xb6\\x93\\x10%<I#\\x11P\\x82r\\xf3\\xd3\\x94A3\"P\\xd7\\xb8(\\x9bU\\xd87o_mk\\x1fCz;\\xfa\\xb0k\\x9e\\xc9\\xcbE\\xb4D\\xe6|\\xff\\x07\\xc4\\x01\\x9f\\x0c\\x90\\xe1\\x0b?\\xe8\\x83\\x7fg\\xf1|\\xaa\\xebTjA\\xe79\\x94\\xa4\\x007\\x91\\xaa.3\\x9a\\x87\\xa6_;\\xac\\x18u(\\x0fk]\\x84\\xebR\\xa5J\\xa3\\x96\\xc34\\x10\\xc3\\xd6\\xd5V[\\xa1#$\\xbb\\x825\\x00u\\xb7~\\xea\\xbbM\\xda\\xd7\\xd1\\xaa\\xbfn}\\xde\\xbc\\xf3\\x83\\x05\\x11\\xf3\\x99\\x82\\x0b\\x9ah\\xeeL\\x02\\xbc$r\\xf1\\xe3\\x11\\x9cr\\xc0\\r\\x9c\\xba\\xf4\\xd0^x\\xd1\\xa5\\xa9\\x89#\\xa7\\xdfL\\x15h\\x0f\\x8fz@>\\xc0\\xdd\\xcb\\xf0\\xbe\\xdf\\x18\\x9c\\xdc3J\\x90\\x1d~\\xfa\\xd8\\xd8r\\x15\\xeb\\xdeQi\\x89\\x930\\xfe\\x8b\\x81,k\\x1b\\xab\\xc0\\xfa~\\xcb\\xa3,F\\x81\\x8c\\xf9\\x93\\x987\\xb0\\xab3\\x82\\xc10#U\\x1c\\xb9[\\xf0\\xbd0\\xd0M\\xec\\xf9\\x87E\\xbe\\x80~O\\xcb\\x99.\\xb6\\xa0`\\x10G\\x00k@4\\x8f\\xd7\\xa3\\x99'\n",
      "\tResult Hash[H]: cbb85e1668dd9631d825353586be83dfc2d28aedac12b853558fcf1c19aca9711d21312b65eff912c158a5a139ad3b833e247a220f791d0bb1375be16eb9d252906cef16e58f827f062abce22371412e5b9aaa168e79e79c16a6293ba3670ca8a82dc05af62d6a8b3dafba61b9d371882cfca22c27413a8e518c64d735eadca718c4c4a8796b2207d2c0ea759b9beda4dc3fe8e31d9c510983aa76386b6d99de8776ef1caf97d564391fcd0082f31f75c8ede29454fc3863b40fb850487d56ae3b15375fe8b58bc9c591f95df2642e298f229845540b6000a0a0bd73a8ce76d198875627a9c4d3bdc8bd72a8175537b5fc1540dfe2df370ab480515a7fa36394e387b69310253c492311508272f3d39441332250d7b8289b55d8376f5f6d6b1f437a3bfab06b9ec9cb45b444e67cff07c4019f0c90e10b3fe8837f67f17caaeb546a41e73994a4003791aa2e339a87a65f3bac1875280f6b5d84eb52a54aa396c33410c3d6d5565ba12324bb82350075b77eeabb4ddad7d1aabf6e7ddebcf3830511f399820b9a68ee4c02bc2472f1e3119c72c00d9cbaf4d05e78d1a5a98923a7df4c15680f8f7a403ec0ddcbf0bedf189cdc334a901d7efad8d87215ebde5169899330fe8b812c6b1babc0fa7ecba32c46818cf9939837b0ab3382c13023551cb95bf0bd30d04decf98745be807e4fcb992eb6a0601047006b40348fd7a399\n",
      "\n",
      "\n",
      "pbkdf2_hmac Algorithm with parameters:\n",
      "\tHash-Name: sha512\n",
      "\tRandom Salt[B]: b'\\xd2\\xa0\\xc9*\\x88\\tt\\xbf\\xa1\\x16\\x80+J\\r\\xfan\\x0c\\x0c#i\\xf8i\\xa89\\xb5\\x90\\xaeL\\xe4K.\\x17}z\\xd7\\x85\\xe1C^\\xbc\\xa4\\x99\\xc2\\xcd\\xd0]\\xe0\\xa9`\\x15\\xa1@\\xa6\\x95T\\xac\\xcf\\xda\\xb9\\xa9/\\xc3_n\\xf3\\x11=\\xfa\\xfa\\x8b\\xb8\\xb4\\xad\\xb6e\\xbe\\xbf\\xb6\\x10\\xf5\\\\2K\\x82%\\x08\\xd3\\x15\\xadE?\\x1b\\x17C\\xde\\xa1\\xe0\\x15\\x8a\\xac\\xb3P!\\xd4\\xca\\xd3\\x90\\xfc\\xa6\\xaf\\xc8\\x9aY\\xa4\\x7f\\xc0:gp2\\xf3\\x0e\\xd1&\\x0b\\x80\\xd6Z'\n",
      "\tRandom Salt[H]: d2a0c92a880974bfa116802b4a0dfa6e0c0c2369f869a839b590ae4ce44b2e177d7ad785e1435ebca499c2cdd05de0a96015a140a69554accfdab9a92fc35f6ef3113dfafa8bb8b4adb665bebfb610f55c324b822508d315ad453f1b1743dea1e0158aacb35021d4cad390fca6afc89a59a47fc03a677032f30ed1260b80d65a\n",
      "\tIterations: 100000\n",
      "\tDesired Length: 512\n",
      "\tPassword: password123🌺🌸 \n",
      "\tResult Hash[B]: b'\\x81\\xca\\x0c\\xc3\\x9f\\x1c\\xc7\\xe8\\xael\\xaf^F0\\xd1\\'\\xc2\\x14\\r\\x9d\\xbf\\xce\\xf4\\xab\\x8am\\xd0\\x8bLP\\xf3.\\xf7\\x9c\\xbd\\xaa\\r(W\\x18\\x88N <\\xe4\\xfa|\\xf1*\\x91>\\xdb<v\\xfc\\xae\\xc3\\x9c\\x9fJ\\x05U\\xae\\x88\\xdc\\xca\\xdc\\x17J2\\xb2\\x7f\\x92\\xd2\\xf4\\xb1_\\xcc,\\xc9\\x05\\xbb#\\xe60\\x14\\xd4o\\x93E \\xdc\\xdb\\x06\\xe8\\x13\\x1cBF\\xb2\\xaa\\x1a}D\\xa5\\x10\\xdf\\xd96\\xe2\\x05\\x1dQ\\x07\\x02\\xb2^%\\xa0\\xea\\xb8<z\\xbb8\\xfcB\\t\\xa6\\xc5\\xf4\\xd7\\xc2\\xf3#\\xf5\\x06\\x98\\xfa\\\\\\xa0\\xdfO\\xab\\x86\\x0f&-SO\\x02\\x10\\x1a\\xc3U\\x17^\\xb6\\xa8Z>\\x02\\xc2*\\xfd\\xfet\\xf3\\x9e\\xc4^\\xd6\\xeb\\xf2%\\x92p\\x85\\x1d\\xe9;\\x81\\xb0\\x85\"\\xae\\xa4Nm\\xe3\\xbd\\xfb\\x8d9\\xaezg\\xe7{\\xca\\x93{\\x0f\\xf4\\xec\\x85\\xc7\\x01\\xa0\\xc7d\\x05\\xe1kM\\xfcr\\no$!h\\xa2\\xf3\\xa1\\xcc0v\\xd0u\\x82\\x1cL\\x01\\x06\\x0e\\xcc\\x7f\\x9c\\xcf\\xc4\\x16\\x1a`C\\x0bL\\xd8\\x9f\\x9d\\xb8\\xac\\xca\\x1a\\xab\\x9b\\x1d\\xe6)\\xc0\\xd5\\x94\\x17\\xf7\\x85F\\x90x\\xda\\x12\\x80\\xff\\x02\\\\\\xd8\\x1c\\xac\\xfb\\x0c\\xc9\\xa6W\\xbf\\xb6\\xda\\x02\\xc3j\\n\\xfb\\x97\\xe8\\x83\\xa1!@\\x1d\\x92\\xf1\\xa0\\x8c\\x9a\\xae\\x9f\\xdd\\xdb\\x80\\x8az\\xa7W\\x05e\\xee\\x84\\xf9\\xba/E\\x1fj\\xfe\\x8f\\xf05X4\\xd2W\\xe4\\xe0\\x1byk~\\xac\\xcf\\x02\\xcd\\xed\\xd5R\\x9f\\x10\\xda\\x03\\xe2\\x84\\xe0\\xe3\\xd8\\x82\\x7fih<>\\x0ed\\xb6\\xbe\\x15\\xd7\\xa4w\\x06w\\xb4oCq\\xf4Cw\\x1f &{f\\x946\\xb0m\\xce~\\xb9\\xc9\\xf2P]4\\xfd\\x88\\x8c\\xe1^yq\\x84\\xbf\\xb6\\x1dp\\x9a(\\xe9\\x02\\x89\\xbc\\x8e\\xc7{\\t\\xbe1\\x98\\xc0\\xd8\\xe5w\\xee^k\\x98E\\x1a\\x91\\x90\\xac.\\xbeC#J\\xfc\\x8b\\x9b\\xe1)\\x9aet\\x17\\x97w\\xeeM\\xb24\\x84\\x86xA\\x18\\xee\\xe4-k\\x83\\xa8:\\x85\\xedQp\\xa0\\xe0\\x0f\\x14lC\\xce\\x07\\xe5\\xdb\\xaa\\x01\\xf6\\x01\\xfa\\xba\\xbcvK\\xfb\\xbf8\\x03(\\xb8\\xe6\\x96\\x14\\xadc\\x95p\\x07 \\xd1\\x1d\\x05\\xebQ\\xdf?$Z\\xd1\\xd1\\x1ex'\n",
      "\tResult Hash[H]: 81ca0cc39f1cc7e8ae6caf5e4630d127c2140d9dbfcef4ab8a6dd08b4c50f32ef79cbdaa0d285718884e203ce4fa7cf12a913edb3c76fcaec39c9f4a0555ae88dccadc174a32b27f92d2f4b15fcc2cc905bb23e63014d46f934520dcdb06e8131c4246b2aa1a7d44a510dfd936e2051d510702b25e25a0eab83c7abb38fc4209a6c5f4d7c2f323f50698fa5ca0df4fab860f262d534f02101ac355175eb6a85a3e02c22afdfe74f39ec45ed6ebf2259270851de93b81b08522aea44e6de3bdfb8d39ae7a67e77bca937b0ff4ec85c701a0c76405e16b4dfc720a6f242168a2f3a1cc3076d075821c4c01060ecc7f9ccfc4161a60430b4cd89f9db8acca1aab9b1de629c0d59417f785469078da1280ff025cd81cacfb0cc9a657bfb6da02c36a0afb97e883a121401d92f1a08c9aae9fdddb808a7aa7570565ee84f9ba2f451f6afe8ff0355834d257e4e01b796b7eaccf02cdedd5529f10da03e284e0e3d8827f69683c3e0e64b6be15d7a4770677b46f4371f443771f20267b669436b06dce7eb9c9f2505d34fd888ce15e797184bfb61d709a28e90289bc8ec77b09be3198c0d8e577ee5e6b98451a9190ac2ebe43234afc8b9be1299a6574179777ee4db2348486784118eee42d6b83a83a85ed5170a0e00f146c43ce07e5dbaa01f601fababc764bfbbf380328b8e69614ad6395700720d11d05eb51df3f245ad1d11e78\n",
      "\n",
      "\n",
      "pbkdf2_hmac Algorithm with parameters:\n",
      "\tHash-Name: sha512\n",
      "\tRandom Salt[B]: b'X\\x82\\xea\\xcb\\x8e;\\xba\\xd2\\xd4\\x9d\\xfb\\xc1T\\xca\\xb4\\xe7\\x93\\x1b\\xa0\\xb6\\x0f\\xaa\\xce\\x13D\\xf9\\x19\\xff+/\\xe9]1\\xaf)8\\xdc\\xc0\\xe2\\x06N\\xf4@\\x9e\\rk\\xe6\\xd3Z \\xceD6>\"?R\\xb7~\\x8a|\\xa5y%\\x18\\xbd\\xec\\xcc\\xfc\\t\\xb0\\xf9Oi\\x0e\\xe9f\\x8e\\xff\\xf6\\x9d\\x90\\x00\\x03\\xa3\\x0f\\x80[Q\\xech\\x9f\\x07Dal\\x89\\xa3\\\\\\x93K\\xc1\\xca\\xbd\\x1b\\xa3\\xa7\\x04\\x10\\xbd\\x10p\\xe1\\x1d\\xa5\\x1b\\xf4\\xb3\\x95O\\x93\\x163\\x89/\\x9f\\xf1\\x16'\n",
      "\tRandom Salt[H]: 5882eacb8e3bbad2d49dfbc154cab4e7931ba0b60faace1344f919ff2b2fe95d31af2938dcc0e2064ef4409e0d6be6d35a20ce44363e223f52b77e8a7ca5792518bdecccfc09b0f94f690ee9668efff69d900003a30f805b51ec689f0744616c89a35c934bc1cabd1ba3a70410bd1070e11da51bf4b3954f931633892f9ff116\n",
      "\tIterations: 100000\n",
      "\tDesired Length: 512\n",
      "\tPassword: 1234567890 \n",
      "\tResult Hash[B]: b\"\\x06p\\xbc\\xe0BX\\xb6y\\xee>\\xc6\\xcbo\\x9c-\\xe5\\xb0\\xd2\\xc4\\xe4\\xe3\\x93/\\xce\\xb5\\xb5{\\xf7Q\\x00'i\\xcc\\x80\\x1f\\\\\\x00R\\xee\\xcc\\xec\\x98\\x94\\xec\\x8fMI\\x1e;\\xe3&\\x03\\xe3\\xbfz#Al\\xcfvz\\xcb\\x0fP\\xb3\\xd7\\xcc\\xbd\\x06\\x9a\\xcb\\xdcZ\\xf8\\x8f\\xbd\\xab\\x16J\\x172\\x97\\xf2c\\xe2\\x15\\x8b\\x87L\\xe9\\xeb\\x15\\x98\\xd0\\xcd\\x89\\xbf\\x01\\xf4\\xc3\\x8c\\x0b\\xa61=}\\x8f)g9\\xc8\\x93?\\xb0\\xa7y'\\xe2<\\xa8\\x92}\\xe98\\xe4>\\x89\\x8f\\x1c\\x01\\xe0\\xf8\\xbc\\xd5\\xc1\\xe3\\xa4\\x83\\xde+\\xe4+\\x8c\\xd9\\xd3\\x15\\xads\\x8e\\xf2\\x9aY\\xed\\xec\\xa8\\x99\\xdbV0\\xc5\\xd8h\\xd0\\xff9v\\xd6\\xb1\\xb6l\\x06\\xbcnw\\xce\\x18AO\\x11\\xe7<\\x84\\xa9\\xa9>.\\xdf\\xaa5\\xbe$\\xea\\x08\\xd7J<\\xd7^\\xe3\\x1fEV\\xd7\\xc0\\xe3q\\xbf78\\x16j\\x05q\\xc8\\xd6\\x905\\x974{\\xd95Y\\x81\\x9f\\xae\\xdd\\x9c\\x99\\xc9\\xa5\\n3\\xb3V\\xdf\\xf8\\xc6\\x94jh5\\xf65\\x95\\x9f\\xd31-h4'\\xe4\\xc5A-\\xf5\\x15q\\x19\\x93\\xfcf\\x942A\\x95o8\\xee\\x89\\xe0}z\\x81YR\\xaaB\\x0b\\xc5s\\x18\\x9dYq\\xcd\\xd4{\\x10c\\x1fm\\xf6>n?\\x87:\\x8c\\xd5.{\\x96\\x81\\xa6\\x00\\xc9\\x94\\xd3\\xd0\\x97\\xbf\\x1a}\\xa9\\x04\\xa6\\xde\\x16\\xf2\\xef\\x1b\\xbc1k\\xd5Rr\\x8cD4\\xf6Z\\xbex\\x91H\\xddDU|<\\xa3=I\\xe2\\xbe\\x0b\\xa4\\x8d\\x03\\xc2\\\\\\x16'\\x06\\x8c\\xc7\\xeb\\x94\\x80\\x16V6\\x82\\xf8\\xec:m\\xae<N\\xbb\\xcbs\\xe9p\\xffY,X\\xe9:\\xf1\\xd3k+gw\\xe2j\\x1c\\xf5'\\xf4\\xdf\\xf0\\x1c\\xfc\\xd1f\\xf3\\xf9\\x01\\x0c<$\\x0e4hN8\\x18\\x16\\xe9\\x14\\xa5Q\\xb5\\xb1\\xe8\\x1dy\\xcd#\\xf947\\xc3D\\xd2\\x98z\\xe1I\\r\\xfd\\x18*\\xfa9+`\\x9c\\xbc8\\x90c\\x05\\xaa\\xfbZ\\xda\\xcd\\\\\\xeb#\\x16\\xe4LR^\\xaciQ\\xba\\x02\\x11U\\xaaV\\xac\\x80\\x9f\\x82\\xf2\\n\\x8f\\x0b\\x80\\xa8@-\\xcf_\\x16\\x00\\xccj\\x12Z\\x93\\x82\\xe1Q[L\\xb8d\\xefW\\x82\\xf5-\\xcf_\\x06N\\xb8Fl\"\n",
      "\tResult Hash[H]: 0670bce04258b679ee3ec6cb6f9c2de5b0d2c4e4e3932fceb5b57bf751002769cc801f5c0052eeccec9894ec8f4d491e3be32603e3bf7a23416ccf767acb0f50b3d7ccbd069acbdc5af88fbdab164a173297f263e2158b874ce9eb1598d0cd89bf01f4c38c0ba6313d7d8f296739c8933fb0a77927e23ca8927de938e43e898f1c01e0f8bcd5c1e3a483de2be42b8cd9d315ad738ef29a59edeca899db5630c5d868d0ff3976d6b1b66c06bc6e77ce18414f11e73c84a9a93e2edfaa35be24ea08d74a3cd75ee31f4556d7c0e371bf3738166a0571c8d6903597347bd93559819faedd9c99c9a50a33b356dff8c6946a6835f635959fd3312d683427e4c5412df515711993fc66943241956f38ee89e07d7a815952aa420bc573189d5971cdd47b10631f6df63e6e3f873a8cd52e7b9681a600c994d3d097bf1a7da904a6de16f2ef1bbc316bd552728c4434f65abe789148dd44557c3ca33d49e2be0ba48d03c25c1627068cc7eb948016563682f8ec3a6dae3c4ebbcb73e970ff592c58e93af1d36b2b6777e26a1cf527f4dff01cfcd166f3f9010c3c240e34684e381816e914a551b5b1e81d79cd23f93437c344d2987ae1490dfd182afa392b609cbc38906305aafb5adacd5ceb2316e44c525eac6951ba021155aa56ac809f82f20a8f0b80a8402dcf5f1600cc6a125a9382e1515b4cb864ef5782f52dcf5f064eb8466c\n"
     ]
    }
   ],
   "source": [
    "import os\n",
    "import hashlib\n",
    "\n",
    "\n",
    "\n",
    "def do_and_print_hash(hash_algorithm, iterations_count, dk_length, p_word2, salt_value):\n",
    "    the_hash_to_use = hashlib.pbkdf2_hmac(\n",
    "                    hash_name=hash_algorithm, \n",
    "                    password = p_word2.encode('utf-8'),\n",
    "                    salt = salt_value,\n",
    "                    iterations=iterations_count, \n",
    "                    dklen = dk_length \n",
    "                    )\n",
    "\n",
    "    print(f'\\n\\npbkdf2_hmac Algorithm with parameters:')\n",
    "    print(f'\\tHash-Name: {hash_algorithm}')\n",
    "    print(f'\\tRandom Salt[B]: {salt_value}') # .decode(\"utf-8\")\n",
    "    print(f'\\tRandom Salt[H]: {salt_value.hex()}') # .decode(\"utf-8\")\n",
    "    print(f'\\tIterations: {iterations_count}')\n",
    "    print(f'\\tDesired Length: {dk_length}')\n",
    "    print(f'\\tPassword: {p_word2} ')\n",
    "    print(f'\\tResult Hash[B]: {the_hash_to_use}')\n",
    "    print(f'\\tResult Hash[H]: {the_hash_to_use.hex()}')\n",
    "    return the_hash_to_use\n",
    "\n",
    "# The parameters that are determining the HASHING\n",
    "salt_length = 128 # <= This is NIST recommended salt size \n",
    "# hash_algorithm = 'sha256'\n",
    "\n",
    "hash_algorithm = 'sha512'\n",
    "iterations_count = 100000\n",
    "dk_length = 512\n",
    "\n",
    "p_word1 = 'password123'\n",
    "p_word2 = 'password123🌺🌸'\n",
    "p_word3 = '1234567890'\n",
    "\n",
    "# salt_value1 = os.urandom(salt_length) # <= Random salt\n",
    "# Frozen Salt for consistency\n",
    "salt_value1 = b'\\xe6\\xf0R\\x8c\\xc5\\xb5\\xa5\\xa7\\xbb\\xff\\xffu;V\\x130\\xfc\\xc5\\x10\\xa7\\x9c\\x90\\xb6W\\xc8K\\xa1\\xd4{ ,\\x16\\xbe*1j\\xe5\\xf51/b\\x19\\x81\\xbdma\\xd4\\x19\\x1bq\\x84e\\xa2z\\n\\xe5\\x07\\x1d\\tf\\xbc\\x0f\\xcb\\x82cBO\\x947\\t\\x00O\\t\\x08\\x1b\\xe0\\xa8\\xc4\\x0e\\xc6\\xb2\\xc0\\xcc,\\x17\\xec\\xf0\\x1d\\xce\\x8c=\\xff\\x8b\\xdbE\\x1c\\xbbr\\x05\\xd6\\xaa\\xa0\\x13s\\xfe:c\\x1e\\xd0%\\xb9\\x81xi:\\xbf\\xd7\\xe5\\xb4\\x14\\xdfU\\xc4\\xd5{;\\x10Z'\n",
    "# salt_value2 = os.urandom(salt_length)\n",
    "salt_value2 = b'\\xd2\\xa0\\xc9*\\x88\\tt\\xbf\\xa1\\x16\\x80+J\\r\\xfan\\x0c\\x0c#i\\xf8i\\xa89\\xb5\\x90\\xaeL\\xe4K.\\x17}z\\xd7\\x85\\xe1C^\\xbc\\xa4\\x99\\xc2\\xcd\\xd0]\\xe0\\xa9`\\x15\\xa1@\\xa6\\x95T\\xac\\xcf\\xda\\xb9\\xa9/\\xc3_n\\xf3\\x11=\\xfa\\xfa\\x8b\\xb8\\xb4\\xad\\xb6e\\xbe\\xbf\\xb6\\x10\\xf5\\\\2K\\x82%\\x08\\xd3\\x15\\xadE?\\x1b\\x17C\\xde\\xa1\\xe0\\x15\\x8a\\xac\\xb3P!\\xd4\\xca\\xd3\\x90\\xfc\\xa6\\xaf\\xc8\\x9aY\\xa4\\x7f\\xc0:gp2\\xf3\\x0e\\xd1&\\x0b\\x80\\xd6Z'\n",
    "# salt_value3 = os.urandom(salt_length)\n",
    "salt_value3 =b'X\\x82\\xea\\xcb\\x8e;\\xba\\xd2\\xd4\\x9d\\xfb\\xc1T\\xca\\xb4\\xe7\\x93\\x1b\\xa0\\xb6\\x0f\\xaa\\xce\\x13D\\xf9\\x19\\xff+/\\xe9]1\\xaf)8\\xdc\\xc0\\xe2\\x06N\\xf4@\\x9e\\rk\\xe6\\xd3Z \\xceD6>\"?R\\xb7~\\x8a|\\xa5y%\\x18\\xbd\\xec\\xcc\\xfc\\t\\xb0\\xf9Oi\\x0e\\xe9f\\x8e\\xff\\xf6\\x9d\\x90\\x00\\x03\\xa3\\x0f\\x80[Q\\xech\\x9f\\x07Dal\\x89\\xa3\\\\\\x93K\\xc1\\xca\\xbd\\x1b\\xa3\\xa7\\x04\\x10\\xbd\\x10p\\xe1\\x1d\\xa5\\x1b\\xf4\\xb3\\x95O\\x93\\x163\\x89/\\x9f\\xf1\\x16'\n",
    "\n",
    "the_hash_to_use = do_and_print_hash(hash_algorithm, iterations_count, dk_length, p_word1, salt_value1)\n",
    "the_hash_to_use = do_and_print_hash(hash_algorithm, iterations_count, dk_length, p_word2, salt_value2)\n",
    "the_hash_to_use = do_and_print_hash(hash_algorithm, iterations_count, dk_length, p_word3, salt_value3)\n",
    "\n",
    "# to transform Hex'' -> Bytes'' bytearray.fromhex('81ca0cc39f1cc7e8ae6caf5e4630d127')\n",
    "# to transform Bytes'' -> Hex'' 'b'\\x81\\xca\\x0c\\xc3\\x9f\\x1c\\xc7\\xe8\\xael\\xaf^F0\\xd1\\'\\xc2\\x14\\r\\x9d\\xbf\\xce\\xf4\\xab\\x8am\\xd0\\x8bLP'.hex()"
   ]
  },
  {
   "cell_type": "markdown",
   "metadata": {},
   "source": [
    "\n",
    "## Here is a summary of [OWASP credential hashing guidance ](https://cheatsheetseries.owasp.org/cheatsheets/Password_Storage_Cheat_Sheet.html):\n",
    "\n",
    "- For **legacy** systems using bcrypt, use a work factor of 10 or more and with a password limit of 72 bytes.\n",
    "- Use Argon2id with a minimum configuration of 19 MiB of memory, an iteration count of 2, and 1 degree of parallelism.\n",
    "- If Argon2id is not available on your platform, - use scrypt with a minimum CPU/memory cost parameter of (2^17), a minimum block size of 8 (1024 bytes), and a parallelization parameter of 1.\n",
    "- If FIPS-140 compliance is required, use PBKDF2 with a work factor (iterations) of 600,000 or more and set with an internal hash function of HMAC  SHA-256.\n",
    "- Consider combining a peppering implementation with additional defenses (but, if it is used alone, it provides no additional security characteristics).\n"
   ]
  }
 ],
 "metadata": {
  "kernelspec": {
   "display_name": "Python 3",
   "language": "python",
   "name": "python3"
  },
  "language_info": {
   "codemirror_mode": {
    "name": "ipython",
    "version": 3
   },
   "file_extension": ".py",
   "mimetype": "text/x-python",
   "name": "python",
   "nbconvert_exporter": "python",
   "pygments_lexer": "ipython3",
   "version": "3.8.9"
  },
  "orig_nbformat": 4
 },
 "nbformat": 4,
 "nbformat_minor": 2
}
