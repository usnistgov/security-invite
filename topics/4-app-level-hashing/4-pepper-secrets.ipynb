{
 "cells": [
  {
   "cell_type": "markdown",
   "metadata": {},
   "source": [
    "### So far we have learned that:\n",
    "1. Passwords **should never be stored as plaintext**\n",
    "2. Password content should be **hashed with appropriate standard hash algorithms**\n",
    "3. Before hashing, a random byte sequence (called a SALT) is added to passwords and persisted along with the hash\n",
    "\n",
    "These points assure that passwords are not easily readable. Implementing 3. makes applying rainbow tables to compromised data more difficult.\n",
    "\n",
    "### We can take additional precautions in the case that a database's password contents are exposed. As implementers, we can use another value added to the password entry before hashing, but this value would not be stored in the database. It would be a secret kept in the application.\n",
    "\n"
   ]
  }
 ],
 "metadata": {
  "language_info": {
   "name": "python"
  },
  "orig_nbformat": 4
 },
 "nbformat": 4,
 "nbformat_minor": 2
}
